{
 "cells": [
  {
   "cell_type": "markdown",
   "id": "e09d807e",
   "metadata": {},
   "source": [
    "# Question 1 \n",
    "What data type is each of the following?"
   ]
  },
  {
   "cell_type": "markdown",
   "id": "de497d45",
   "metadata": {},
   "source": [
    "<h3><font color='#004b87'>Data Type</font></h3>\n",
    "<p></p>\n",
    "\n",
    "\n",
    "|Usage               | Explanation                                                      |                         \n",
    "| :---               |-----------------:                                                |          \n",
    "| 5                  | integer                                                          |        \n",
    "| 5.0                | float                                                            |  \n",
    "| 5>1                | returns true so boolean data type and also > is comparison operator        |  \n",
    "| ‘5’                | char                                                             |  \n",
    "| 5*2                | returns 10 so integer data type and also * is arithmetic operator          |  \n",
    "| ‘5’*2              | returns 106 so integer as a char is an integer representing the unicode value|  \n",
    "| ‘5’+’2’            | returns 103 so integer data type                                 |\n",
    "| 5/2                | returns 2 so integer data type and also / is arithmetic operator |                                     \n",
    "| 5%2                | returns the remainder 1 so integer data type and also % is arithmetic operator|  \n",
    "| {5, 2, 1}          | array                                                            | \n",
    "| 5==3               | comparison operator returns false so boolean                     |  \n",
    "| Pi                 | if we assume pi is 3.14 so the data type is float                |  \n"
   ]
  },
  {
   "cell_type": "markdown",
   "id": "bebaa16a",
   "metadata": {},
   "source": [
    "# Question 2 \n",
    "<b> Write (and evaluate) C# expressions that answer these questions:\n",
    "\n",
    "a. How many letters are there in 'Supercalifragilisticexpialidocious'?</b>\n"
   ]
  },
  {
   "cell_type": "markdown",
   "id": "0ff11dc3",
   "metadata": {},
   "source": [
    "# code\n",
    "\n",
    "using System;\n",
    "\n",
    "namespace Programset1\n",
    "{\n",
    "    class Program\n",
    "    {\n",
    "        static void Main(string[] args)\n",
    "        {\n",
    "\n",
    "            string str = \"Supercalifragilisticexpialidocious\"; // this statement is going to take string\n",
    "            Console.WriteLine($\"the letters in {str} are \" + str.Length); //printing the statement and how many number are there in that string and also counting its lenght as well.\n",
    "\n",
    "        }\n",
    "    }\n",
    "}\n",
    "\n",
    "# output\n",
    "![Question2A.png](Question2A.png)\n",
    "\n",
    " \n"
   ]
  },
  {
   "cell_type": "markdown",
   "id": "1409dedc",
   "metadata": {},
   "source": [
    "<b> B. Does 'Supercalifragilisticexpialidocious' contain 'ice' as a substring? </b>"
   ]
  },
  {
   "cell_type": "markdown",
   "id": "e3119186",
   "metadata": {},
   "source": [
    "# code\n",
    "\n",
    "using System;\n",
    "\n",
    "namespace Programset1\n",
    "{\n",
    "    class Program\n",
    "    {\n",
    "        static void Main(string[] args)\n",
    "        {\n",
    "\n",
    "            string parentstring = \"Supercalifragilisticexpialidocious\";// storing parent string \n",
    "            string childstring = \"ice\"; // Storing chil string \n",
    "\n",
    "            Console.WriteLine(parentstring.Contains(childstring)); // during this line we checking childstring to check that word containing in parenet string or not.\n",
    "\n",
    "        }\n",
    "    }\n",
    "}\n",
    "     \n",
    "\n",
    "# output \n",
    "\n",
    "![Question2B.png](Question2B.png)\n",
    "\n"
   ]
  },
  {
   "cell_type": "markdown",
   "id": "10ec9f88",
   "metadata": {},
   "source": [
    "<b> C. Which of the following words is the longest:\n",
    "Supercalifragilisticexpialidocious, Honorificabilitudinitatibus, or\n",
    "Bababadalgharaghtakamminarronnkonn? </b>"
   ]
  },
  {
   "cell_type": "markdown",
   "id": "d1ac2cbc",
   "metadata": {},
   "source": [
    "# code \n",
    "\n",
    "using System;\n",
    "\n",
    "namespace Programset1\n",
    "{\n",
    "    class Program\n",
    "    {\n",
    "        static void Main(string[] args)\n",
    "        {\n",
    "            string c1 = \"Supercalifragilisticexpialidocious\";\n",
    "            string c2 = \"Honorificabilitudinitatibus\";\n",
    "            string c3 = \"Bababadalgharaghtakamminarronnkonn\";\n",
    "\n",
    "\n",
    "\n",
    "\n",
    "            if (c1.Length == c2.Length || c1.Length == c3.Length || c3.Length == c2.Length) // this condition check length of strings C1,C2,C3\n",
    "            {\n",
    "                if (c1.Length == c2.Length) // if this condition checking two string length c1 and c2 \n",
    "                {\n",
    "                    Console.WriteLine(\"Strings c1 and c2 are the same\\n\"); //if condition is true it will print this statement \n",
    "                }\n",
    "                else if (c1.Length == c3.Length)// if this condition checking two string length c1 and c3\n",
    "                {\n",
    "                    Console.WriteLine(\"Strings c1 and c3 are the same\\n\"); //if condition is true it will print this statement\n",
    "                }\n",
    "                else if (c3.Length == c2.Length) //if this condition checking two string length c3 and c2 \n",
    "                {\n",
    "                    Console.WriteLine(\"Strings c2 and c3 are the same\\n\"); //if condition is true it will print this statement \n",
    "                }\n",
    "\n",
    "            }\n",
    "            else\n",
    "            {\n",
    "                if (c1.Length > c2.Length)// this condition checking if c1 length is greater than c2 \n",
    "                {\n",
    "                    if (c1.Length > c3.Length)//this is going to check c1 length and c3 length \n",
    "                    {\n",
    "                        Console.WriteLine(\"c1 is the greatest among three \\n\"); //if condition is true it will print this statement \n",
    "                    }\n",
    "                    else\n",
    "                    {\n",
    "                        Console.WriteLine(\"c3 is the greatest among three \\n\");//if condition is true it will print this statement \n",
    "                    }\n",
    "                }\n",
    "                else if (c2.Length > c3.Length)// //this is going to check c2 length and c3 length \n",
    "                {\n",
    "                    Console.WriteLine(\"c2 is the greatest among three \\n\");//if condition is true it will print this statement \n",
    "                }\n",
    "\n",
    "                else\n",
    "                {\n",
    "                    Console.WriteLine(\"c3 is the greatest among three \\n\");//if condition is true it will print this statement \n",
    "                }\n",
    "            }\n",
    "\n",
    "        }\n",
    "    }\n",
    "\n",
    "}\n",
    "\n",
    "# output \n",
    "![Question2C.png](Question2C.png)\n",
    "\n",
    "\n"
   ]
  },
  {
   "cell_type": "markdown",
   "id": "b74765d4",
   "metadata": {},
   "source": [
    "<b> D. Which composer comes first in the dictionary: 'Berlioz', 'Borodin', 'Brian',\n",
    "'Bartok', 'Bellini', 'Buxtehude', 'Bernstein'. Which one comes last?</b>"
   ]
  },
  {
   "cell_type": "markdown",
   "id": "8e1eab55",
   "metadata": {},
   "source": [
    "# code \n",
    "\n",
    "using System;\n",
    "\n",
    "namespace Programset1\n",
    "{\n",
    "    class Program\n",
    "    {\n",
    "        static void Main(string[] args)\n",
    "        {\n",
    "            string[] Composer = { \"Berlioz\", \"Borodin\", \"Brian\", \"Bartok\", \"Bellini\", \"Buxtehude\", \"Bernstein\" }; // list of composers \n",
    "            Array.Sort(Composer, (m, n) => String.Compare(m, n));// sorting the composer string \n",
    "\n",
    "            Console.WriteLine($\"The composer comes first is:\\t{Composer[0]}\"); //this statement check first composer from composer string \n",
    "\n",
    "            Console.WriteLine($\"The composer comes last is:\\t{Composer[Composer.Length - 1]}\");// this statement check last composer from composer string\n",
    "        }\n",
    "    }\n",
    "}\n",
    "\n",
    "# Output\n",
    "\n",
    "![Question2D.png](Question2D.png)\n"
   ]
  },
  {
   "cell_type": "markdown",
   "id": "cbbd0370",
   "metadata": {},
   "source": [
    "# Question 3\n",
    "\n",
    "<b> Implement function triangleArea(a,b,c) that takes as input the lengths of the 3\n",
    "sides of a triangle and returns the area of the triangle. By Heron's formula, the area\n",
    "of a triangle with side lengths a, b, and c is\n",
    "s(s - a)(s -b)(s -c), where\n",
    "s = (a + b + c) /2. </b>\n"
   ]
  },
  {
   "cell_type": "markdown",
   "id": "452cfff0",
   "metadata": {},
   "source": [
    "# code \n",
    "\n",
    "using System;\n",
    "\n",
    "namespace Programset1\n",
    "{\n",
    "    class Program\n",
    "    {\n",
    "        static void Main(string[] args)\n",
    "        {\n",
    "            double l, area;\n",
    "            double a, b, c;\n",
    "           \n",
    "             //Enter tringle values from user\n",
    "            Console.WriteLine(\"Enter value of first side of tringle:\");\n",
    "            a = double.Parse(Console.ReadLine());\n",
    "            Console.WriteLine(\"Enter value of second side of tringle:\");\n",
    "            b = double.Parse(Console.ReadLine());\n",
    "            Console.WriteLine(\"Enter value of third side of tringle:\");\n",
    "            c = double.Parse(Console.ReadLine());\n",
    "\n",
    "            //Heron's formula \n",
    "\n",
    "\n",
    "            l = (a + b + c) / 2;\n",
    "            area = Math.Sqrt(l * (l - a) * (l - b) * (l - c));\n",
    "\n",
    "\n",
    "            Console.WriteLine(\"Area = \" + area);\n",
    "        }\n",
    "    }\n",
    "}\n",
    "\n",
    "# output\n",
    "![Question3.png](Question3.png)\n",
    "\n"
   ]
  },
  {
   "cell_type": "markdown",
   "id": "7a06be98",
   "metadata": {},
   "source": [
    "# Question 4\n",
    "\n",
    "<b>\n",
    "Write a program in C# Sharp to separate odd and even integers in separate arrays.</b>"
   ]
  },
  {
   "cell_type": "markdown",
   "id": "bda3cca9",
   "metadata": {},
   "source": [
    "# Code\n",
    "\n",
    "\n",
    "using System;\n",
    "\n",
    "namespace Programset1\n",
    "{\n",
    "    class Program\n",
    "    {\n",
    "        static void Main(string[] args)\n",
    "        {\n",
    "            int[] main = new int[10];\n",
    "            int[] evennumber = new int[10];\n",
    "            int[] oddnumber = new int[10];\n",
    "            int x, e = 0, o = 0, n;\n",
    "\n",
    "            Console.Write(\"Enter the number of element you want to stored in array:\");// this will store number of element you want to store from users\n",
    "            n = Convert.ToInt32(Console.ReadLine());\n",
    "\n",
    "            Console.Write(\"Input {0} Elements in array :\\n\", n); \n",
    "            for (x = 0; x < n; x++)\n",
    "            {\n",
    "                Console.Write(\"Element - {0} : \", x);// this will print number entered by tehe users.\n",
    "                main[x] = Convert.ToInt32(Console.ReadLine());\n",
    "\n",
    "            }\n",
    "\n",
    "\n",
    "            for (x = 0; x < n; x++) \n",
    "            {\n",
    "                if (main[x] % 2 == 0)\n",
    "                {\n",
    "                    evennumber[e] = main[x];\n",
    "                    e++;\n",
    "                }\n",
    "                else\n",
    "                {\n",
    "                    oddnumber[o] = main[x];\n",
    "                    o++;\n",
    "                }\n",
    "            }\n",
    "            Console.WriteLine(\"Expected output:\");\n",
    "\n",
    "            Console.WriteLine(\"The even elements are:\");\n",
    "            //This for loop print number Even elements that enters by user\n",
    "            for (x = 0; x < e; x++)\n",
    "            {\n",
    "                Console.Write(\"{0} \", evennumber[x]);\n",
    "            }\n",
    "\n",
    "            Console.WriteLine(\"\\nThe odd elements are:\");\n",
    "            //This for loop print number odd elements that enters by user\n",
    "            for (x = 0; x < o; x++)\n",
    "            {\n",
    "                Console.Write(\"{0} \", oddnumber[x]);\n",
    "            }\n",
    "\n",
    "        }\n",
    "    }\n",
    "}\n",
    "\n",
    "# output\n",
    "![Question4.png](Question4.png)\n"
   ]
  },
  {
   "cell_type": "markdown",
   "id": "22246421",
   "metadata": {},
   "source": [
    "# Question 5\n",
    "\n",
    "<b> a. Write a function inside(x,y,x1,y1,x2,y2) that returns True or False depending on whether the point (x,y) lies in the rectangle with lower left corner (x1,y1) and upper right corner (x2,y2).\n",
    "\n",
    "b. Use function inside() from part a. to write an expression that tests whether the point (1,1) lies in both of the following rectangles: one with lower left corner (0.3, 0.5) and upper right corner (1.1, 0.7) and the other with lower left corner (0.5, 0.2) and upper right corner (1.1, 2). </b>"
   ]
  },
  {
   "cell_type": "markdown",
   "id": "d519d050",
   "metadata": {},
   "source": [
    "# Code\n",
    "\n",
    "using System;\n",
    "\n",
    "namespace Programset1\n",
    "{\n",
    "    class Program\n",
    "    {\n",
    "        static bool inside(double x1, double y1, double x2,\n",
    "                      double y2, double x, double y)\n",
    "        {\n",
    "            if (x > x1 && x < x2 &&\n",
    "                y > y1 && y < y2)\n",
    "                return true;\n",
    "\n",
    "            return false;\n",
    "        }\n",
    "\n",
    "        static void Main(string[] args)\n",
    "        {\n",
    "            //Enter values from users.\n",
    "            Console.Write(\"Enter X's value: \");\n",
    "            double x = Convert.ToDouble(Console.ReadLine());\n",
    "            Console.Write(\"Enter Y's value: \");\n",
    "            double y = Convert.ToDouble(Console.ReadLine());\n",
    "            Console.Write(\"Enter X1's value: \");\n",
    "            double x1 = Convert.ToDouble(Console.ReadLine());\n",
    "            Console.Write(\"Enter Y1's values: \");\n",
    "            double y1 = Convert.ToDouble(Console.ReadLine());\n",
    "            Console.Write(\"Enter X2's value: \");\n",
    "            double x2 = Convert.ToDouble(Console.ReadLine());\n",
    "            Console.Write(\"Enter Y2's value: \");\n",
    "            double y2 = Convert.ToDouble(Console.ReadLine());\n",
    "\n",
    "            if (inside(x1, y1, x2, y2, x, y)) // this condition check values entered by the user \n",
    "                Console.Write(\"True\"); // if that condition are matched and it will give you true as a output\n",
    "            else\n",
    "                Console.Write(\"False\"); // if that condition are not matched and it will give you false as a output\n",
    "\n",
    "        }\n",
    "    }\n",
    "}\n",
    "\n",
    "# output \n",
    "\n",
    "<b>A.</b>\n",
    "\n",
    "![Question5A.png](Question5A.png)\n",
    "    \n",
    " <b> B. </b>\n",
    "![Question5B.png](Question5A2.png)\n",
    "\n",
    "\n"
   ]
  },
  {
   "cell_type": "markdown",
   "id": "5d0490e6",
   "metadata": {},
   "source": [
    "# Question 6 \n",
    "\n",
    "<b> You can turn a word into pig-Latin using the following two rules (simplified):\n",
    "\n",
    "• If the word starts with a consonant, move that letter to the end and append 'ay'. For example, 'happy' becomes 'appyhay' and 'pencil' becomes 'encilpay'.\n",
    "\n",
    "• If the word starts with a vowel, simply append 'way' to the end of the word. For example, 'enter' becomes 'enterway' and 'other' becomes 'otherway' . For our purposes, there are 5 vowels: a, e, i, o, u (so we count y as a consonant).\n",
    "Write a function pig() that takes a word (i.e., a string) as input and returns its pig-Latin form. Your function should still work if the input word contains upper case characters. Your output should always be lower case however. </b>"
   ]
  },
  {
   "cell_type": "code",
   "execution_count": 2,
   "id": "b3b0c98c",
   "metadata": {},
   "outputs": [
    {
     "name": "stdout",
     "output_type": "stream",
     "text": [
      "Enter a word you want to convert to pig latin: Muzammil\n",
      "uzammilmay\n"
     ]
    }
   ],
   "source": [
    "# code\n",
    "\n",
    "def pig(word):\n",
    "    if word[0] in \"aeiouAEIOU\":\n",
    "        return word + 'way'\n",
    "    else:\n",
    "        return word[1:] + word[0] + 'ay'\n",
    "\n",
    "word = input(\"Enter a word you want to convert to pig latin: \")\n",
    "print(pig(word).lower())\n"
   ]
  },
  {
   "cell_type": "markdown",
   "id": "9adee544",
   "metadata": {},
   "source": [
    "# Question 7\n",
    "\n",
    "<b> File bloodtype1.txt records blood-types of patients (A, B, AB, O or OO) at a clinic. Write a function bldcount() that reads the file with name name and reports (i.e., prints) how many patients there are in each bloodtype. </b>"
   ]
  },
  {
   "cell_type": "code",
   "execution_count": 5,
   "id": "f78f5763",
   "metadata": {
    "scrolled": true
   },
   "outputs": [
    {
     "name": "stdout",
     "output_type": "stream",
     "text": [
      "There are 15 patients of blood type A.\n",
      "There is one patient of blood type B.\n",
      "There are 13 patients of blood type AB.\n",
      "There are 15 patients of blood type O.\n",
      "There are no patients of blood type OO.\n"
     ]
    }
   ],
   "source": [
    "# code\n",
    "\n",
    "def bldcount(str1):\n",
    "    with open(str1,'r') as file:\n",
    "        blood = file.read()\n",
    "        li = list(blood.split(\" \"))\n",
    "\n",
    "    if li.count(\"A\") == 1:\n",
    "        print(\"There is one patient of blood type A.\")\n",
    "    elif li.count(\"A\") > 1:\n",
    "        print(\"There are \"+str(li.count(\"A\"))+\" patients of blood type A.\")\n",
    "    else:\n",
    "        print(\"There are no patients of blood type A.\")\n",
    "\n",
    "    if li.count(\"B\") == 1:\n",
    "        print(\"There is one patient of blood type B.\")\n",
    "    elif li.count(\"B\") > 1:\n",
    "        print(\"There are \"+str(li.count(\"B\"))+\" patients of blood type B.\")\n",
    "    else:\n",
    "        print(\"There are no patients of blood type B.\")\n",
    "\n",
    "    if li.count(\"AB\") == 1:\n",
    "        print(\"There is one patient of blood type AB.\")\n",
    "    elif li.count(\"AB\") > 1:\n",
    "        print(\"There are \"+str(li.count(\"AB\"))+\" patients of blood type AB.\")\n",
    "    else:\n",
    "        print(\"There are no patients of blood type AB.\")\n",
    "\n",
    "    if li.count(\"O\") == 1:\n",
    "        print(\"There is one patient of blood type O.\")\n",
    "    elif li.count(\"O\") > 1:\n",
    "        print(\"There are \"+str(li.count(\"O\"))+\" patients of blood type O.\")\n",
    "    else:\n",
    "        print(\"There are no patients of blood type O.\")\n",
    "\n",
    "    if li.count(\"OO\") == 1:\n",
    "        print(\"There is one patient of blood type 00.\")\n",
    "    elif li.count(\"OO\") > 1:\n",
    "        print(\"There are \"+str(li.count(\"OO\"))+\" patients of blood type OO.\")\n",
    "    else:\n",
    "        print(\"There are no patients of blood type OO.\")\n",
    "\n",
    "\n",
    "bldcount(\"bloodtype1.txt\");\n"
   ]
  },
  {
   "cell_type": "markdown",
   "id": "f35ee085",
   "metadata": {},
   "source": [
    "# Question 8\n",
    "\n",
    "<b> Write a function curconv() that takes as input:\n",
    "1. a currency represented using a string (e.g., 'JPY' for the Japanese Yen or 'EUR' for the Euro)\n",
    "2. an amount\n",
    "and then converts and returns the amount in US dollars.</b>\n"
   ]
  },
  {
   "cell_type": "code",
   "execution_count": 4,
   "id": "34703d97",
   "metadata": {},
   "outputs": [
    {
     "name": "stdout",
     "output_type": "stream",
     "text": [
      "Enter the unit of currency:CHF\t\n",
      "Enter the amount:245\n",
      "250.816643\n"
     ]
    }
   ],
   "source": [
    "# Code \n",
    "def curconv(cname,money):\n",
    "    with open(\"currencies.txt\") as myFile:\n",
    "        for num, line in enumerate(myFile, 1):\n",
    "            if cname in line:\n",
    "                moneydata=list(line.split())\n",
    "                print(float(money) * float(moneydata[1]))\n",
    "\n",
    "cname = input(\"Enter the unit of currency:\")\n",
    "money = input(\"Enter the amount:\")\n",
    "\n",
    "curconv(cname,money)"
   ]
  },
  {
   "cell_type": "markdown",
   "id": "f424a3e5",
   "metadata": {},
   "source": [
    "\n",
    "# Question 9\n",
    "\n",
    "<b> Each of the following will cause an exception (an error). Identify what type of exception each will cause. </b>"
   ]
  },
  {
   "cell_type": "markdown",
   "id": "53efcd7b",
   "metadata": {},
   "source": [
    "<h3><font color='#004b87'>Type of Exception</font></h3>\n",
    "<p></p>\n",
    "\n",
    "\n",
    "|Usage                                                                         | Explanation             |                         \n",
    "| :---                                                                         |-----------------:       |          \n",
    "| Trying to add incompatible variables, as in adding 6 + ‘a’                   | TypeError               |        \n",
    "| Referring to the 12th item of a list that has only 10 items                  | IndexError              | \n",
    "| Using a value that is out of range for a function’s input,such as calling math.sqrt( 1.0)              | ValueError                                               \n",
    "| Using an undeclared variable, such as print(x)when x has not been defined                                | NameError|\n",
    "| Trying to open a file that does not exist, such as mistyping the file name or looking in the wrong directory.                                  | FileNotFoundError       |\n",
    "             "
   ]
  },
  {
   "cell_type": "markdown",
   "id": "55372d64",
   "metadata": {},
   "source": [
    "# Question 10\n",
    "\n",
    "<b> Encryption is the process of hiding the meaning of a text by substituting letters in the message with other letters, according to some system. If the process is successful, no one but the intended recipient can understand the encrypted message. Cryptanalysis refers to attempts to undo the encryption, even if some details of the encryption are unknown (for example, if an encrypted message has been intercepted). The first step of cryptanalysis is often to build up a table of letter frequencies in the encrypted text. Assume that the string letters is already defined as 'abcdefghijklmnopqrstuvwxyz'. Write a function called frequencies() that takes a string as its only parameter, and returns a list of integers, showing the number of times each character appears in the text. Your function may ignore any characters that are not in letters. </b>"
   ]
  },
  {
   "cell_type": "code",
   "execution_count": 9,
   "id": "7e7697a8",
   "metadata": {},
   "outputs": [
    {
     "name": "stdout",
     "output_type": "stream",
     "text": [
      "enter your string\n",
      "apple'\n",
      "[1, 0, 0, 0, 1, 0, 0, 0, 0, 0, 0, 1, 0, 0, 0, 2, 0, 0, 0, 0, 0, 0, 0, 0, 0, 0]\n"
     ]
    }
   ],
   "source": [
    "# code\n",
    "\n",
    "string = input(\"Enter your string\\n\")\n",
    "\n",
    "def frequencies(string):\n",
    "    s1=''.join(e for e in string if e.isalnum())\n",
    "    freq = [0 for _ in range(26)]\n",
    "    for c in s1:\n",
    "        freq[ord(c) - ord('a')] += 1\n",
    "    print(freq)\n",
    "\n",
    "frequencies(string)\n"
   ]
  },
  {
   "cell_type": "code",
   "execution_count": null,
   "id": "c917fa71",
   "metadata": {},
   "outputs": [],
   "source": []
  }
 ],
 "metadata": {
  "kernelspec": {
   "display_name": "Python 3",
   "language": "python",
   "name": "python3"
  },
  "language_info": {
   "codemirror_mode": {
    "name": "ipython",
    "version": 3
   },
   "file_extension": ".py",
   "mimetype": "text/x-python",
   "name": "python",
   "nbconvert_exporter": "python",
   "pygments_lexer": "ipython3",
   "version": "3.8.8"
  }
 },
 "nbformat": 4,
 "nbformat_minor": 5
}
